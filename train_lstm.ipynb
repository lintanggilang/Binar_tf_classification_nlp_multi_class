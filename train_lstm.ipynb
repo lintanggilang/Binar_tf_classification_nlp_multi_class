{
 "cells": [
  {
   "cell_type": "code",
   "execution_count": 1,
   "metadata": {
    "colab": {
     "base_uri": "https://localhost:8080/",
     "height": 202
    },
    "id": "lNy522S0rRdH",
    "outputId": "2b317a21-2d55-49e5-eb54-1225919a0c32"
   },
   "outputs": [],
   "source": [
    "import pandas as pd\n",
    "\n",
    "import tensorflow as tf\n",
    "from tensorflow import keras\n",
    "\n",
    "from tensorflow.keras.preprocessing.sequence import pad_sequences\n",
    "from tensorflow.keras.preprocessing.text import Tokenizer\n",
    "from tensorflow.keras.callbacks import EarlyStopping\n",
    "from tensorflow.keras.regularizers import l1\n",
    "from tensorflow.keras.regularizers import l2\n",
    "from tensorflow.keras.regularizers import L1L2\n",
    "\n",
    "from sklearn.model_selection import train_test_split\n",
    "import matplotlib.pyplot as plt\n",
    "\n",
    "import re"
   ]
  },
  {
   "cell_type": "markdown",
   "metadata": {},
   "source": [
    "# Load Dataset"
   ]
  },
  {
   "cell_type": "code",
   "execution_count": 2,
   "metadata": {},
   "outputs": [
    {
     "data": {
      "text/html": [
       "<div>\n",
       "<style scoped>\n",
       "    .dataframe tbody tr th:only-of-type {\n",
       "        vertical-align: middle;\n",
       "    }\n",
       "\n",
       "    .dataframe tbody tr th {\n",
       "        vertical-align: top;\n",
       "    }\n",
       "\n",
       "    .dataframe thead th {\n",
       "        text-align: right;\n",
       "    }\n",
       "</style>\n",
       "<table border=\"1\" class=\"dataframe\">\n",
       "  <thead>\n",
       "    <tr style=\"text-align: right;\">\n",
       "      <th></th>\n",
       "      <th>content</th>\n",
       "      <th>label</th>\n",
       "    </tr>\n",
       "  </thead>\n",
       "  <tbody>\n",
       "    <tr>\n",
       "      <th>0</th>\n",
       "      <td>Unions representing workers at Turner   Newall...</td>\n",
       "      <td>Business</td>\n",
       "    </tr>\n",
       "    <tr>\n",
       "      <th>1</th>\n",
       "      <td>SPACE.com - TORONTO, Canada -- A second\\team o...</td>\n",
       "      <td>SciTech</td>\n",
       "    </tr>\n",
       "    <tr>\n",
       "      <th>2</th>\n",
       "      <td>AP - A company founded by a chemistry research...</td>\n",
       "      <td>SciTech</td>\n",
       "    </tr>\n",
       "    <tr>\n",
       "      <th>3</th>\n",
       "      <td>AP - It's barely dawn when Mike Fitzpatrick st...</td>\n",
       "      <td>SciTech</td>\n",
       "    </tr>\n",
       "    <tr>\n",
       "      <th>4</th>\n",
       "      <td>AP - Southern California's smog-fighting agenc...</td>\n",
       "      <td>SciTech</td>\n",
       "    </tr>\n",
       "  </tbody>\n",
       "</table>\n",
       "</div>"
      ],
      "text/plain": [
       "                                             content     label\n",
       "0  Unions representing workers at Turner   Newall...  Business\n",
       "1  SPACE.com - TORONTO, Canada -- A second\\team o...   SciTech\n",
       "2  AP - A company founded by a chemistry research...   SciTech\n",
       "3  AP - It's barely dawn when Mike Fitzpatrick st...   SciTech\n",
       "4  AP - Southern California's smog-fighting agenc...   SciTech"
      ]
     },
     "execution_count": 2,
     "metadata": {},
     "output_type": "execute_result"
    }
   ],
   "source": [
    "# dataset diambil dari https://github.com/robsalgado/personal_data_science_projects/tree/master/mulitclass_text_class\n",
    "df = pd.read_csv(\"df.csv\",dtype=object)\n",
    "df.head()"
   ]
  },
  {
   "cell_type": "markdown",
   "metadata": {},
   "source": [
    "# One Hot Endocder for label data"
   ]
  },
  {
   "cell_type": "code",
   "execution_count": 3,
   "metadata": {
    "colab": {
     "base_uri": "https://localhost:8080/",
     "height": 202
    },
    "id": "ZDw2PyrfsRhR",
    "outputId": "2f03fa4a-bf9f-42b1-c4f6-950966f83535"
   },
   "outputs": [
    {
     "data": {
      "text/html": [
       "<div>\n",
       "<style scoped>\n",
       "    .dataframe tbody tr th:only-of-type {\n",
       "        vertical-align: middle;\n",
       "    }\n",
       "\n",
       "    .dataframe tbody tr th {\n",
       "        vertical-align: top;\n",
       "    }\n",
       "\n",
       "    .dataframe thead th {\n",
       "        text-align: right;\n",
       "    }\n",
       "</style>\n",
       "<table border=\"1\" class=\"dataframe\">\n",
       "  <thead>\n",
       "    <tr style=\"text-align: right;\">\n",
       "      <th></th>\n",
       "      <th>content</th>\n",
       "      <th>Business</th>\n",
       "      <th>SciTech</th>\n",
       "      <th>Sports</th>\n",
       "      <th>World</th>\n",
       "    </tr>\n",
       "  </thead>\n",
       "  <tbody>\n",
       "    <tr>\n",
       "      <th>0</th>\n",
       "      <td>unions representing workers at turner   newall...</td>\n",
       "      <td>1</td>\n",
       "      <td>0</td>\n",
       "      <td>0</td>\n",
       "      <td>0</td>\n",
       "    </tr>\n",
       "    <tr>\n",
       "      <th>1</th>\n",
       "      <td>space.com  toronto canada  a secondteam of roc...</td>\n",
       "      <td>0</td>\n",
       "      <td>1</td>\n",
       "      <td>0</td>\n",
       "      <td>0</td>\n",
       "    </tr>\n",
       "    <tr>\n",
       "      <th>2</th>\n",
       "      <td>ap  a company founded by a chemistry researche...</td>\n",
       "      <td>0</td>\n",
       "      <td>1</td>\n",
       "      <td>0</td>\n",
       "      <td>0</td>\n",
       "    </tr>\n",
       "    <tr>\n",
       "      <th>3</th>\n",
       "      <td>ap  its barely dawn when mike fitzpatrick star...</td>\n",
       "      <td>0</td>\n",
       "      <td>1</td>\n",
       "      <td>0</td>\n",
       "      <td>0</td>\n",
       "    </tr>\n",
       "    <tr>\n",
       "      <th>4</th>\n",
       "      <td>ap  southern californias smogfighting agency w...</td>\n",
       "      <td>0</td>\n",
       "      <td>1</td>\n",
       "      <td>0</td>\n",
       "      <td>0</td>\n",
       "    </tr>\n",
       "  </tbody>\n",
       "</table>\n",
       "</div>"
      ],
      "text/plain": [
       "                                             content  Business  SciTech  \\\n",
       "0  unions representing workers at turner   newall...         1        0   \n",
       "1  space.com  toronto canada  a secondteam of roc...         0        1   \n",
       "2  ap  a company founded by a chemistry researche...         0        1   \n",
       "3  ap  its barely dawn when mike fitzpatrick star...         0        1   \n",
       "4  ap  southern californias smogfighting agency w...         0        1   \n",
       "\n",
       "   Sports  World  \n",
       "0       0      0  \n",
       "1       0      0  \n",
       "2       0      0  \n",
       "3       0      0  \n",
       "4       0      0  "
      ]
     },
     "execution_count": 3,
     "metadata": {},
     "output_type": "execute_result"
    }
   ],
   "source": [
    "category = pd.get_dummies(df.label)\n",
    "df_baru = pd.concat([df, category], axis=1)\n",
    "df_baru = df_baru.drop(columns='label')\n",
    "\n",
    "df_baru['content'] = df_baru['content'].replace('\\n', ' ').str.lower()\n",
    "\n",
    "def fun(x):\n",
    "    y = re.sub(r'[^a-zA-Z0-9. ]', '', x)\n",
    "    return y\n",
    "\n",
    "df_baru['content'] = df_baru['content'].apply(lambda x : fun(x))\n",
    "\n",
    "df_baru['content'] = df_baru['content'].replace('   ', ' ')\n",
    "df_baru['content'] = df_baru['content'].replace('  ', ' ')\n",
    "\n",
    "\n",
    "\n",
    "df_baru.head()"
   ]
  },
  {
   "cell_type": "markdown",
   "metadata": {},
   "source": [
    "# Split x y"
   ]
  },
  {
   "cell_type": "code",
   "execution_count": 4,
   "metadata": {},
   "outputs": [],
   "source": [
    "x = df_baru['content'].values\n",
    "y = df_baru[['Business', 'SciTech', 'Sports', 'World']].values"
   ]
  },
  {
   "cell_type": "markdown",
   "metadata": {
    "id": "hIPt2fB3zBSG"
   },
   "source": [
    "# Tokenizer"
   ]
  },
  {
   "cell_type": "code",
   "execution_count": 5,
   "metadata": {},
   "outputs": [],
   "source": [
    "tokenizer = Tokenizer(num_words=5000, oov_token='x')\n",
    "tokenizer.fit_on_texts(x)"
   ]
  },
  {
   "cell_type": "code",
   "execution_count": 6,
   "metadata": {},
   "outputs": [],
   "source": [
    "sekuens_x = tokenizer.texts_to_sequences(x)"
   ]
  },
  {
   "cell_type": "markdown",
   "metadata": {},
   "source": [
    "# Padding"
   ]
  },
  {
   "cell_type": "code",
   "execution_count": 7,
   "metadata": {},
   "outputs": [],
   "source": [
    "padded_x = pad_sequences(sekuens_x) "
   ]
  },
  {
   "cell_type": "markdown",
   "metadata": {},
   "source": [
    "# Split train test val"
   ]
  },
  {
   "cell_type": "code",
   "execution_count": 8,
   "metadata": {},
   "outputs": [],
   "source": [
    "x_train, x_test, y_train, y_test = train_test_split(padded_x, y, test_size=0.2, random_state = 4)\n",
    "\n",
    "x_train, x_val, y_train, y_val = train_test_split(x_train, y_train, test_size=0.2, random_state = 4)"
   ]
  },
  {
   "cell_type": "markdown",
   "metadata": {},
   "source": [
    "# Calls the function model to be used "
   ]
  },
  {
   "cell_type": "markdown",
   "metadata": {},
   "source": [
    "https://towardsdatascience.com/machine-learning-model-regularization-in-practice-an-example-with-keras-and-tensorflow-2-0-52a96746123e"
   ]
  },
  {
   "cell_type": "markdown",
   "metadata": {},
   "source": [
    "https://towardsdatascience.com/batch-normalization-in-practice-an-example-with-keras-and-tensorflow-2-0-b1ec28bde96f"
   ]
  },
  {
   "cell_type": "markdown",
   "metadata": {},
   "source": [
    "https://towardsdatascience.com/a-practical-introduction-to-early-stopping-in-machine-learning-550ac88bc8fd"
   ]
  },
  {
   "cell_type": "code",
   "execution_count": 9,
   "metadata": {},
   "outputs": [],
   "source": [
    "model = tf.keras.Sequential([\n",
    "    tf.keras.layers.Embedding(input_dim=5000, output_dim=128),\n",
    "    \n",
    "    tf.keras.layers.LSTM(128),\n",
    "        \n",
    "    tf.keras.layers.Dense(128, kernel_regularizer=L1L2(l1=0.01, l2=0.01), activation='relu'),\n",
    "    tf.keras.layers.Dropout(0.1),\n",
    "    tf.keras.layers.BatchNormalization(),\n",
    "    \n",
    "    tf.keras.layers.Dense(128, kernel_regularizer=L1L2(l1=0, l2=0.01), activation='relu'),\n",
    "    tf.keras.layers.Dropout(0.1),\n",
    "    tf.keras.layers.BatchNormalization(),\n",
    "    \n",
    "    tf.keras.layers.Dense(128, kernel_regularizer=L1L2(l1=0, l2=0.01), activation='relu'),\n",
    "    tf.keras.layers.Dropout(0.1),\n",
    "    tf.keras.layers.BatchNormalization(),\n",
    "    \n",
    "    tf.keras.layers.Dense(128, kernel_regularizer=L1L2(l1=0, l2=0.01), activation='relu'),\n",
    "    tf.keras.layers.Dropout(0.1),\n",
    "    tf.keras.layers.BatchNormalization(),\n",
    "    \n",
    "    tf.keras.layers.Dense(128, kernel_regularizer=L1L2(l1=0, l2=0.01), activation='relu'),\n",
    "    tf.keras.layers.Dropout(0.1),\n",
    "    tf.keras.layers.BatchNormalization(),    \n",
    "    \n",
    "    tf.keras.layers.Dense(4, activation='softmax')\n",
    "])"
   ]
  },
  {
   "cell_type": "markdown",
   "metadata": {},
   "source": [
    "# Call EarlyStopping"
   ]
  },
  {
   "cell_type": "code",
   "execution_count": 10,
   "metadata": {},
   "outputs": [],
   "source": [
    "# early_stop = EarlyStopping(monitor='val_categorical_accuracy', baseline = 0.75, restore_best_weights = True)"
   ]
  },
  {
   "cell_type": "code",
   "execution_count": 11,
   "metadata": {},
   "outputs": [],
   "source": [
    "class myCallback(tf.keras.callbacks.Callback):\n",
    "    def on_epoch_end(self, epoch, logs={}):\n",
    "        if(logs.get('val_categorical_accuracy') > 0.80 ):\n",
    "            self.model.stop_training = True\n",
    "\n",
    "callbacks = myCallback()"
   ]
  },
  {
   "cell_type": "markdown",
   "metadata": {},
   "source": [
    "# Call optimizer for model"
   ]
  },
  {
   "cell_type": "code",
   "execution_count": 12,
   "metadata": {},
   "outputs": [],
   "source": [
    "model.compile(loss='categorical_crossentropy',\n",
    "              optimizer=keras.optimizers.Adam(),\n",
    "              metrics=['categorical_accuracy'])"
   ]
  },
  {
   "cell_type": "markdown",
   "metadata": {},
   "source": [
    "# Train the data"
   ]
  },
  {
   "cell_type": "code",
   "execution_count": 13,
   "metadata": {},
   "outputs": [
    {
     "name": "stdout",
     "output_type": "stream",
     "text": [
      "Epoch 1/1000\n",
      "152/152 [==============================] - 15s 87ms/step - loss: 15.7201 - categorical_accuracy: 0.3335 - val_loss: 10.9382 - val_categorical_accuracy: 0.2459\n",
      "Epoch 2/1000\n",
      "152/152 [==============================] - 13s 84ms/step - loss: 7.5542 - categorical_accuracy: 0.5718 - val_loss: 5.6686 - val_categorical_accuracy: 0.2566\n",
      "Epoch 3/1000\n",
      "152/152 [==============================] - 11s 75ms/step - loss: 3.7374 - categorical_accuracy: 0.7965 - val_loss: 3.5739 - val_categorical_accuracy: 0.2895\n",
      "Epoch 4/1000\n",
      "152/152 [==============================] - 12s 77ms/step - loss: 2.3155 - categorical_accuracy: 0.8542 - val_loss: 2.4372 - val_categorical_accuracy: 0.6867\n",
      "Epoch 5/1000\n",
      "152/152 [==============================] - 12s 81ms/step - loss: 1.5970 - categorical_accuracy: 0.8966 - val_loss: 1.6793 - val_categorical_accuracy: 0.7829\n",
      "Epoch 6/1000\n",
      "152/152 [==============================] - 14s 94ms/step - loss: 1.0915 - categorical_accuracy: 0.9305 - val_loss: 1.3791 - val_categorical_accuracy: 0.7664\n",
      "Epoch 7/1000\n",
      "152/152 [==============================] - 13s 83ms/step - loss: 0.7661 - categorical_accuracy: 0.9402 - val_loss: 1.2777 - val_categorical_accuracy: 0.7401\n",
      "Epoch 8/1000\n",
      "152/152 [==============================] - 12s 82ms/step - loss: 0.5865 - categorical_accuracy: 0.9449 - val_loss: 1.4878 - val_categorical_accuracy: 0.7442\n",
      "Epoch 9/1000\n",
      "152/152 [==============================] - 13s 85ms/step - loss: 0.4424 - categorical_accuracy: 0.9535 - val_loss: 1.0524 - val_categorical_accuracy: 0.7623\n",
      "Epoch 10/1000\n",
      "152/152 [==============================] - 13s 86ms/step - loss: 0.3642 - categorical_accuracy: 0.9611 - val_loss: 1.4395 - val_categorical_accuracy: 0.7837\n",
      "Epoch 11/1000\n",
      "152/152 [==============================] - 14s 93ms/step - loss: 0.2888 - categorical_accuracy: 0.9708 - val_loss: 1.0412 - val_categorical_accuracy: 0.7697\n",
      "Epoch 12/1000\n",
      "152/152 [==============================] - 13s 84ms/step - loss: 0.2859 - categorical_accuracy: 0.9599 - val_loss: 1.2381 - val_categorical_accuracy: 0.7829\n",
      "Epoch 13/1000\n",
      "152/152 [==============================] - 13s 83ms/step - loss: 0.2125 - categorical_accuracy: 0.9768 - val_loss: 1.0275 - val_categorical_accuracy: 0.7993\n",
      "Epoch 14/1000\n",
      "152/152 [==============================] - 12s 77ms/step - loss: 0.2077 - categorical_accuracy: 0.9745 - val_loss: 1.3142 - val_categorical_accuracy: 0.7689\n",
      "Epoch 15/1000\n",
      "152/152 [==============================] - 13s 83ms/step - loss: 0.2172 - categorical_accuracy: 0.9766 - val_loss: 1.3387 - val_categorical_accuracy: 0.7755\n",
      "Epoch 16/1000\n",
      "152/152 [==============================] - 12s 80ms/step - loss: 0.2001 - categorical_accuracy: 0.9727 - val_loss: 1.4171 - val_categorical_accuracy: 0.7763\n",
      "Epoch 17/1000\n",
      "152/152 [==============================] - 12s 80ms/step - loss: 0.2247 - categorical_accuracy: 0.9722 - val_loss: 1.1608 - val_categorical_accuracy: 0.7755\n",
      "Epoch 18/1000\n",
      "152/152 [==============================] - 12s 81ms/step - loss: 0.1859 - categorical_accuracy: 0.9807 - val_loss: 1.0880 - val_categorical_accuracy: 0.7845\n",
      "Epoch 19/1000\n",
      "152/152 [==============================] - 12s 79ms/step - loss: 0.1773 - categorical_accuracy: 0.9807 - val_loss: 1.2438 - val_categorical_accuracy: 0.7812\n",
      "Epoch 20/1000\n",
      "152/152 [==============================] - 12s 80ms/step - loss: 0.1819 - categorical_accuracy: 0.9801 - val_loss: 1.0819 - val_categorical_accuracy: 0.7854\n",
      "Epoch 21/1000\n",
      "152/152 [==============================] - 13s 83ms/step - loss: 0.1513 - categorical_accuracy: 0.9846 - val_loss: 1.3288 - val_categorical_accuracy: 0.7952\n",
      "Epoch 22/1000\n",
      "152/152 [==============================] - 12s 79ms/step - loss: 0.1595 - categorical_accuracy: 0.9864 - val_loss: 1.4596 - val_categorical_accuracy: 0.7895\n",
      "Epoch 23/1000\n",
      "152/152 [==============================] - 12s 79ms/step - loss: 0.1711 - categorical_accuracy: 0.9831 - val_loss: 1.6607 - val_categorical_accuracy: 0.7484\n",
      "Epoch 24/1000\n",
      "152/152 [==============================] - 13s 83ms/step - loss: 0.1703 - categorical_accuracy: 0.9833 - val_loss: 1.3191 - val_categorical_accuracy: 0.7664\n",
      "Epoch 25/1000\n",
      "152/152 [==============================] - 13s 87ms/step - loss: 0.1885 - categorical_accuracy: 0.9805 - val_loss: 1.2858 - val_categorical_accuracy: 0.7993\n",
      "Epoch 26/1000\n",
      "152/152 [==============================] - 14s 89ms/step - loss: 0.1548 - categorical_accuracy: 0.9883 - val_loss: 1.2424 - val_categorical_accuracy: 0.7911\n",
      "Epoch 27/1000\n",
      "152/152 [==============================] - 14s 94ms/step - loss: 0.1833 - categorical_accuracy: 0.9833 - val_loss: 1.3230 - val_categorical_accuracy: 0.7821\n",
      "Epoch 28/1000\n",
      "152/152 [==============================] - 14s 92ms/step - loss: 0.1454 - categorical_accuracy: 0.9893 - val_loss: 1.4926 - val_categorical_accuracy: 0.7755\n",
      "Epoch 29/1000\n",
      "152/152 [==============================] - 12s 78ms/step - loss: 0.1810 - categorical_accuracy: 0.9836 - val_loss: 1.3730 - val_categorical_accuracy: 0.7788\n",
      "Epoch 30/1000\n",
      "152/152 [==============================] - 12s 80ms/step - loss: 0.1686 - categorical_accuracy: 0.9866 - val_loss: 1.3043 - val_categorical_accuracy: 0.7911\n",
      "Epoch 31/1000\n",
      "152/152 [==============================] - 13s 86ms/step - loss: 0.1536 - categorical_accuracy: 0.9881 - val_loss: 1.5659 - val_categorical_accuracy: 0.7722\n",
      "Epoch 32/1000\n",
      "152/152 [==============================] - 13s 85ms/step - loss: 0.2128 - categorical_accuracy: 0.9784 - val_loss: 1.6024 - val_categorical_accuracy: 0.8026\n",
      "Wall time: 6min 46s\n"
     ]
    }
   ],
   "source": [
    "%%time\n",
    "num_epochs = 1000\n",
    "fit = model.fit(x_train, \n",
    "                y_train, \n",
    "#                 batch_size = 16,\n",
    "                epochs=num_epochs, \n",
    "                validation_data=(x_val, y_val),\n",
    "#                 validation_split=0.2,       \n",
    "                callbacks = [callbacks]\n",
    ")"
   ]
  },
  {
   "cell_type": "code",
   "execution_count": 14,
   "metadata": {},
   "outputs": [
    {
     "data": {
      "image/png": "[encoded data removed]",
      "text/plain": [
       "<Figure size 432x288 with 1 Axes>"
      ]
     },
     "metadata": {
      "needs_background": "light"
     },
     "output_type": "display_data"
    }
   ],
   "source": [
    "plt.plot(fit.history['categorical_accuracy'], label='train')\n",
    "plt.plot(fit.history['val_categorical_accuracy'], label='test')\n",
    "plt.legend()\n",
    "plt.show()"
   ]
  },
  {
   "cell_type": "code",
   "execution_count": 15,
   "metadata": {},
   "outputs": [
    {
     "data": {
      "image/png": "[encoded data removed]",
      "text/plain": [
       "<Figure size 432x288 with 1 Axes>"
      ]
     },
     "metadata": {
      "needs_background": "light"
     },
     "output_type": "display_data"
    }
   ],
   "source": [
    "plt.plot(fit.history['loss'], label='train')\n",
    "plt.plot(fit.history['val_loss'], label='val')\n",
    "plt.legend()\n",
    "plt.show()"
   ]
  },
  {
   "cell_type": "code",
   "execution_count": 16,
   "metadata": {},
   "outputs": [
    {
     "name": "stdout",
     "output_type": "stream",
     "text": [
      "16/16 [==============================] - 3s 152ms/step - loss: 0.2493 - categorical_accuracy: 0.9831\n",
      "16/16 [==============================] - 2s 65ms/step - loss: 1.6024 - categorical_accuracy: 0.8026\n",
      "16/16 [==============================] - 2s 98ms/step - loss: 1.7530 - categorical_accuracy: 0.7855\n",
      "\n",
      "Train: 0.983, val: 0.803, test: 0.786,\n"
     ]
    }
   ],
   "source": [
    "train_loss, train_acc = model.evaluate(x_train, y_train, steps=16)\n",
    "val_loss, val_acc = model.evaluate(x_val, y_val, steps=16)\n",
    "test_loss, test_acc = model.evaluate(x_test, y_test, steps=16)\n",
    "\n",
    "print('\\nTrain: %.3f, val: %.3f, test: %.3f,' % (train_acc, val_acc, test_acc))"
   ]
  },
  {
   "cell_type": "markdown",
   "metadata": {},
   "source": [
    "# Save Model"
   ]
  },
  {
   "cell_type": "code",
   "execution_count": 17,
   "metadata": {},
   "outputs": [],
   "source": [
    "filename = 'lstm.h5'\n",
    "model.save(filename)"
   ]
  },
  {
   "cell_type": "code",
   "execution_count": 18,
   "metadata": {},
   "outputs": [],
   "source": [
    "import io\n",
    "import json\n",
    "\n",
    "tokenizer_json = tokenizer.to_json()\n",
    "with io.open('tokenizer.json', 'w', encoding='utf-8') as f:\n",
    "    f.write(json.dumps(tokenizer_json, ensure_ascii=False))"
   ]
  },
  {
   "cell_type": "code",
   "execution_count": null,
   "metadata": {},
   "outputs": [],
   "source": []
  }
 ],
 "metadata": {
  "colab": {
   "collapsed_sections": [],
   "name": "Lintang_Gilang_10Dec.ipynb",
   "provenance": []
  },
  "kernelspec": {
   "display_name": "Python 3 (ipykernel)",
   "language": "python",
   "name": "python3"
  },
  "language_info": {
   "codemirror_mode": {
    "name": "ipython",
    "version": 3
   },
   "file_extension": ".py",
   "mimetype": "text/x-python",
   "name": "python",
   "nbconvert_exporter": "python",
   "pygments_lexer": "ipython3",
   "version": "3.9.7"
  }
 },
 "nbformat": 4,
 "nbformat_minor": 1
}
