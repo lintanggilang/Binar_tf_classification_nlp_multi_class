{
 "cells": [
  {
   "cell_type": "code",
   "execution_count": 1,
   "metadata": {
    "colab": {
     "base_uri": "https://localhost:8080/",
     "height": 202
    },
    "id": "lNy522S0rRdH",
    "outputId": "2b317a21-2d55-49e5-eb54-1225919a0c32"
   },
   "outputs": [],
   "source": [
    "import pandas as pd\n",
    "\n",
    "import tensorflow as tf\n",
    "from tensorflow import keras\n",
    "\n",
    "from tensorflow.keras.preprocessing.sequence import pad_sequences\n",
    "from tensorflow.keras.preprocessing.text import Tokenizer\n",
    "from tensorflow.keras.callbacks import EarlyStopping\n",
    "from tensorflow.keras.regularizers import l1\n",
    "from tensorflow.keras.regularizers import l2\n",
    "from tensorflow.keras.regularizers import L1L2\n",
    "\n",
    "from sklearn.model_selection import train_test_split\n",
    "import matplotlib.pyplot as plt\n",
    "\n",
    "import re"
   ]
  },
  {
   "cell_type": "markdown",
   "metadata": {},
   "source": [
    "# Load Dataset"
   ]
  },
  {
   "cell_type": "code",
   "execution_count": 2,
   "metadata": {},
   "outputs": [
    {
     "data": {
      "text/html": [
       "<div>\n",
       "<style scoped>\n",
       "    .dataframe tbody tr th:only-of-type {\n",
       "        vertical-align: middle;\n",
       "    }\n",
       "\n",
       "    .dataframe tbody tr th {\n",
       "        vertical-align: top;\n",
       "    }\n",
       "\n",
       "    .dataframe thead th {\n",
       "        text-align: right;\n",
       "    }\n",
       "</style>\n",
       "<table border=\"1\" class=\"dataframe\">\n",
       "  <thead>\n",
       "    <tr style=\"text-align: right;\">\n",
       "      <th></th>\n",
       "      <th>content</th>\n",
       "      <th>label</th>\n",
       "    </tr>\n",
       "  </thead>\n",
       "  <tbody>\n",
       "    <tr>\n",
       "      <th>0</th>\n",
       "      <td>Unions representing workers at Turner   Newall...</td>\n",
       "      <td>Business</td>\n",
       "    </tr>\n",
       "    <tr>\n",
       "      <th>1</th>\n",
       "      <td>SPACE.com - TORONTO, Canada -- A second\\team o...</td>\n",
       "      <td>SciTech</td>\n",
       "    </tr>\n",
       "    <tr>\n",
       "      <th>2</th>\n",
       "      <td>AP - A company founded by a chemistry research...</td>\n",
       "      <td>SciTech</td>\n",
       "    </tr>\n",
       "    <tr>\n",
       "      <th>3</th>\n",
       "      <td>AP - It's barely dawn when Mike Fitzpatrick st...</td>\n",
       "      <td>SciTech</td>\n",
       "    </tr>\n",
       "    <tr>\n",
       "      <th>4</th>\n",
       "      <td>AP - Southern California's smog-fighting agenc...</td>\n",
       "      <td>SciTech</td>\n",
       "    </tr>\n",
       "  </tbody>\n",
       "</table>\n",
       "</div>"
      ],
      "text/plain": [
       "                                             content     label\n",
       "0  Unions representing workers at Turner   Newall...  Business\n",
       "1  SPACE.com - TORONTO, Canada -- A second\\team o...   SciTech\n",
       "2  AP - A company founded by a chemistry research...   SciTech\n",
       "3  AP - It's barely dawn when Mike Fitzpatrick st...   SciTech\n",
       "4  AP - Southern California's smog-fighting agenc...   SciTech"
      ]
     },
     "execution_count": 2,
     "metadata": {},
     "output_type": "execute_result"
    }
   ],
   "source": [
    "# dataset diambil dari https://github.com/robsalgado/personal_data_science_projects/tree/master/mulitclass_text_class\n",
    "df = pd.read_csv(\"df.csv\",dtype=object)\n",
    "df.head()"
   ]
  },
  {
   "cell_type": "markdown",
   "metadata": {},
   "source": [
    "# One Hot Endocder for label data"
   ]
  },
  {
   "cell_type": "code",
   "execution_count": 3,
   "metadata": {
    "colab": {
     "base_uri": "https://localhost:8080/",
     "height": 202
    },
    "id": "ZDw2PyrfsRhR",
    "outputId": "2f03fa4a-bf9f-42b1-c4f6-950966f83535"
   },
   "outputs": [
    {
     "data": {
      "text/html": [
       "<div>\n",
       "<style scoped>\n",
       "    .dataframe tbody tr th:only-of-type {\n",
       "        vertical-align: middle;\n",
       "    }\n",
       "\n",
       "    .dataframe tbody tr th {\n",
       "        vertical-align: top;\n",
       "    }\n",
       "\n",
       "    .dataframe thead th {\n",
       "        text-align: right;\n",
       "    }\n",
       "</style>\n",
       "<table border=\"1\" class=\"dataframe\">\n",
       "  <thead>\n",
       "    <tr style=\"text-align: right;\">\n",
       "      <th></th>\n",
       "      <th>content</th>\n",
       "      <th>Business</th>\n",
       "      <th>SciTech</th>\n",
       "      <th>Sports</th>\n",
       "      <th>World</th>\n",
       "    </tr>\n",
       "  </thead>\n",
       "  <tbody>\n",
       "    <tr>\n",
       "      <th>0</th>\n",
       "      <td>unions representing workers at turner   newall...</td>\n",
       "      <td>1</td>\n",
       "      <td>0</td>\n",
       "      <td>0</td>\n",
       "      <td>0</td>\n",
       "    </tr>\n",
       "    <tr>\n",
       "      <th>1</th>\n",
       "      <td>space.com  toronto canada  a secondteam of roc...</td>\n",
       "      <td>0</td>\n",
       "      <td>1</td>\n",
       "      <td>0</td>\n",
       "      <td>0</td>\n",
       "    </tr>\n",
       "    <tr>\n",
       "      <th>2</th>\n",
       "      <td>ap  a company founded by a chemistry researche...</td>\n",
       "      <td>0</td>\n",
       "      <td>1</td>\n",
       "      <td>0</td>\n",
       "      <td>0</td>\n",
       "    </tr>\n",
       "    <tr>\n",
       "      <th>3</th>\n",
       "      <td>ap  its barely dawn when mike fitzpatrick star...</td>\n",
       "      <td>0</td>\n",
       "      <td>1</td>\n",
       "      <td>0</td>\n",
       "      <td>0</td>\n",
       "    </tr>\n",
       "    <tr>\n",
       "      <th>4</th>\n",
       "      <td>ap  southern californias smogfighting agency w...</td>\n",
       "      <td>0</td>\n",
       "      <td>1</td>\n",
       "      <td>0</td>\n",
       "      <td>0</td>\n",
       "    </tr>\n",
       "  </tbody>\n",
       "</table>\n",
       "</div>"
      ],
      "text/plain": [
       "                                             content  Business  SciTech  \\\n",
       "0  unions representing workers at turner   newall...         1        0   \n",
       "1  space.com  toronto canada  a secondteam of roc...         0        1   \n",
       "2  ap  a company founded by a chemistry researche...         0        1   \n",
       "3  ap  its barely dawn when mike fitzpatrick star...         0        1   \n",
       "4  ap  southern californias smogfighting agency w...         0        1   \n",
       "\n",
       "   Sports  World  \n",
       "0       0      0  \n",
       "1       0      0  \n",
       "2       0      0  \n",
       "3       0      0  \n",
       "4       0      0  "
      ]
     },
     "execution_count": 3,
     "metadata": {},
     "output_type": "execute_result"
    }
   ],
   "source": [
    "category = pd.get_dummies(df.label)\n",
    "df_baru = pd.concat([df, category], axis=1)\n",
    "df_baru = df_baru.drop(columns='label')\n",
    "\n",
    "df_baru['content'] = df_baru['content'].replace('\\n', ' ').str.lower()\n",
    "\n",
    "def fun(x):\n",
    "    y = re.sub(r'[^a-zA-Z0-9. ]', '', x)\n",
    "    return y\n",
    "\n",
    "df_baru['content'] = df_baru['content'].apply(lambda x : fun(x))\n",
    "\n",
    "df_baru['content'] = df_baru['content'].replace('   ', ' ')\n",
    "df_baru['content'] = df_baru['content'].replace('  ', ' ')\n",
    "\n",
    "\n",
    "\n",
    "df_baru.head()"
   ]
  },
  {
   "cell_type": "markdown",
   "metadata": {},
   "source": [
    "# Split x y"
   ]
  },
  {
   "cell_type": "code",
   "execution_count": 4,
   "metadata": {},
   "outputs": [],
   "source": [
    "x = df_baru['content'].values\n",
    "y = df_baru[['Business', 'SciTech', 'Sports', 'World']].values"
   ]
  },
  {
   "cell_type": "markdown",
   "metadata": {
    "id": "hIPt2fB3zBSG"
   },
   "source": [
    "# Tokenizer"
   ]
  },
  {
   "cell_type": "code",
   "execution_count": 5,
   "metadata": {},
   "outputs": [],
   "source": [
    "tokenizer = Tokenizer(num_words=5000, oov_token='x')\n",
    "tokenizer.fit_on_texts(x)"
   ]
  },
  {
   "cell_type": "code",
   "execution_count": 6,
   "metadata": {},
   "outputs": [],
   "source": [
    "sekuens_x = tokenizer.texts_to_sequences(x)"
   ]
  },
  {
   "cell_type": "markdown",
   "metadata": {},
   "source": [
    "# Padding"
   ]
  },
  {
   "cell_type": "code",
   "execution_count": 7,
   "metadata": {},
   "outputs": [],
   "source": [
    "padded_x = pad_sequences(sekuens_x) "
   ]
  },
  {
   "cell_type": "markdown",
   "metadata": {},
   "source": [
    "# Split train test val"
   ]
  },
  {
   "cell_type": "code",
   "execution_count": 8,
   "metadata": {},
   "outputs": [],
   "source": [
    "x_train, x_test, y_train, y_test = train_test_split(padded_x, y, test_size=0.2, random_state = 4)\n",
    "\n",
    "x_train, x_val, y_train, y_val = train_test_split(x_train, y_train, test_size=0.2, random_state = 4)"
   ]
  },
  {
   "cell_type": "markdown",
   "metadata": {},
   "source": [
    "# Calls the function model to be used "
   ]
  },
  {
   "cell_type": "markdown",
   "metadata": {},
   "source": [
    "https://towardsdatascience.com/machine-learning-model-regularization-in-practice-an-example-with-keras-and-tensorflow-2-0-52a96746123e"
   ]
  },
  {
   "cell_type": "markdown",
   "metadata": {},
   "source": [
    "https://towardsdatascience.com/batch-normalization-in-practice-an-example-with-keras-and-tensorflow-2-0-b1ec28bde96f"
   ]
  },
  {
   "cell_type": "markdown",
   "metadata": {},
   "source": [
    "https://towardsdatascience.com/a-practical-introduction-to-early-stopping-in-machine-learning-550ac88bc8fd"
   ]
  },
  {
   "cell_type": "code",
   "execution_count": 9,
   "metadata": {},
   "outputs": [],
   "source": [
    "model = tf.keras.Sequential([\n",
    "    tf.keras.layers.Embedding(input_dim=5000, output_dim=128),\n",
    "    \n",
    "    tf.keras.layers.LSTM(128),\n",
    "        \n",
    "    tf.keras.layers.Dense(128, kernel_regularizer=L1L2(l1=0.01, l2=0.01), activation='relu'),\n",
    "    tf.keras.layers.Dropout(0.1),\n",
    "    tf.keras.layers.BatchNormalization(),\n",
    "    \n",
    "    tf.keras.layers.Dense(128, kernel_regularizer=L1L2(l1=0, l2=0.01), activation='relu'),\n",
    "    tf.keras.layers.Dropout(0.1),\n",
    "    tf.keras.layers.BatchNormalization(),\n",
    "    \n",
    "    tf.keras.layers.Dense(128, kernel_regularizer=L1L2(l1=0, l2=0.01), activation='relu'),\n",
    "    tf.keras.layers.Dropout(0.1),\n",
    "    tf.keras.layers.BatchNormalization(),\n",
    "    \n",
    "    tf.keras.layers.Dense(128, kernel_regularizer=L1L2(l1=0, l2=0.01), activation='relu'),\n",
    "    tf.keras.layers.Dropout(0.1),\n",
    "    tf.keras.layers.BatchNormalization(),\n",
    "    \n",
    "    tf.keras.layers.Dense(128, kernel_regularizer=L1L2(l1=0, l2=0.01), activation='relu'),\n",
    "    tf.keras.layers.Dropout(0.1),\n",
    "    tf.keras.layers.BatchNormalization(),    \n",
    "    \n",
    "    tf.keras.layers.Dense(4, activation='softmax')\n",
    "])"
   ]
  },
  {
   "cell_type": "markdown",
   "metadata": {},
   "source": [
    "# Call EarlyStopping"
   ]
  },
  {
   "cell_type": "code",
   "execution_count": 10,
   "metadata": {},
   "outputs": [],
   "source": [
    "early_stop = EarlyStopping(monitor='categorical_accuracy', patience=5, baseline = 0.8, restore_best_weights = True)"
   ]
  },
  {
   "cell_type": "code",
   "execution_count": 11,
   "metadata": {},
   "outputs": [],
   "source": [
    "# class MyThresholdCallback(tf.keras.callbacks.Callback):\n",
    "#     def __init__(self, threshold):\n",
    "#         super(MyThresholdCallback, self).__init__()\n",
    "#         self.threshold = threshold\n",
    "\n",
    "#     def on_epoch_end(self, epoch, logs=None): \n",
    "#         accuracy = logs[\"acc\"]\n",
    "#         if accuracy >= self.threshold:\n",
    "#             self.model.stop_training = True\n",
    "            \n",
    "            \n",
    "# early_stop = MyThresholdCallback(threshold=8.0)"
   ]
  },
  {
   "cell_type": "markdown",
   "metadata": {},
   "source": [
    "# Call optimizer for model"
   ]
  },
  {
   "cell_type": "code",
   "execution_count": 12,
   "metadata": {},
   "outputs": [],
   "source": [
    "model.compile(loss='categorical_crossentropy',\n",
    "              optimizer=keras.optimizers.Adam(),\n",
    "              metrics=['categorical_accuracy'])"
   ]
  },
  {
   "cell_type": "markdown",
   "metadata": {},
   "source": [
    "# Train the data"
   ]
  },
  {
   "cell_type": "code",
   "execution_count": 13,
   "metadata": {},
   "outputs": [
    {
     "name": "stdout",
     "output_type": "stream",
     "text": [
      "Epoch 1/100\n",
      "152/152 [==============================] - 17s 94ms/step - loss: 15.7790 - categorical_accuracy: 0.3294 - val_loss: 11.0066 - val_categorical_accuracy: 0.2336\n",
      "Epoch 2/100\n",
      "152/152 [==============================] - 14s 92ms/step - loss: 7.6138 - categorical_accuracy: 0.6480 - val_loss: 5.9416 - val_categorical_accuracy: 0.3059\n",
      "Epoch 3/100\n",
      "152/152 [==============================] - 15s 98ms/step - loss: 3.8637 - categorical_accuracy: 0.8296 - val_loss: 3.5964 - val_categorical_accuracy: 0.5847\n",
      "Epoch 4/100\n",
      "152/152 [==============================] - 16s 108ms/step - loss: 2.3733 - categorical_accuracy: 0.8888 - val_loss: 2.3682 - val_categorical_accuracy: 0.7451\n",
      "Epoch 5/100\n",
      "152/152 [==============================] - 18s 120ms/step - loss: 1.6391 - categorical_accuracy: 0.9130 - val_loss: 1.7364 - val_categorical_accuracy: 0.7780\n",
      "Epoch 6/100\n",
      "152/152 [==============================] - 19s 126ms/step - loss: 1.1521 - categorical_accuracy: 0.9299 - val_loss: 1.4012 - val_categorical_accuracy: 0.7804\n",
      "Epoch 7/100\n",
      "152/152 [==============================] - 16s 106ms/step - loss: 0.8377 - categorical_accuracy: 0.9352 - val_loss: 1.1790 - val_categorical_accuracy: 0.7936\n",
      "Epoch 8/100\n",
      "152/152 [==============================] - 14s 94ms/step - loss: 0.5819 - categorical_accuracy: 0.9542 - val_loss: 1.1284 - val_categorical_accuracy: 0.7804\n",
      "Epoch 9/100\n",
      "152/152 [==============================] - 14s 90ms/step - loss: 0.4498 - categorical_accuracy: 0.9585 - val_loss: 1.1491 - val_categorical_accuracy: 0.7475\n",
      "Epoch 10/100\n",
      "152/152 [==============================] - 14s 93ms/step - loss: 0.3426 - categorical_accuracy: 0.9634 - val_loss: 0.8845 - val_categorical_accuracy: 0.7887\n",
      "Epoch 11/100\n",
      "152/152 [==============================] - 14s 94ms/step - loss: 0.2918 - categorical_accuracy: 0.9675 - val_loss: 1.1813 - val_categorical_accuracy: 0.7763\n",
      "Epoch 12/100\n",
      "152/152 [==============================] - 15s 98ms/step - loss: 0.2741 - categorical_accuracy: 0.9671 - val_loss: 1.1933 - val_categorical_accuracy: 0.8043\n",
      "Epoch 13/100\n",
      "152/152 [==============================] - 15s 97ms/step - loss: 0.2577 - categorical_accuracy: 0.9683 - val_loss: 1.0800 - val_categorical_accuracy: 0.7895\n",
      "Epoch 14/100\n",
      "152/152 [==============================] - 16s 107ms/step - loss: 0.2382 - categorical_accuracy: 0.9710 - val_loss: 1.0729 - val_categorical_accuracy: 0.7812\n",
      "Epoch 15/100\n",
      "152/152 [==============================] - 16s 105ms/step - loss: 0.1908 - categorical_accuracy: 0.9780 - val_loss: 1.3186 - val_categorical_accuracy: 0.7804\n",
      "Epoch 16/100\n",
      "152/152 [==============================] - 15s 101ms/step - loss: 0.2047 - categorical_accuracy: 0.9772 - val_loss: 1.0850 - val_categorical_accuracy: 0.7977\n",
      "Epoch 17/100\n",
      "152/152 [==============================] - 17s 109ms/step - loss: 0.2344 - categorical_accuracy: 0.9694 - val_loss: 1.1449 - val_categorical_accuracy: 0.7911\n",
      "Epoch 18/100\n",
      "152/152 [==============================] - 17s 115ms/step - loss: 0.1922 - categorical_accuracy: 0.9784 - val_loss: 1.2453 - val_categorical_accuracy: 0.7854\n",
      "Epoch 19/100\n",
      "152/152 [==============================] - 15s 99ms/step - loss: 0.1936 - categorical_accuracy: 0.9801 - val_loss: 1.1473 - val_categorical_accuracy: 0.7821\n",
      "Epoch 20/100\n",
      "152/152 [==============================] - 17s 109ms/step - loss: 0.1815 - categorical_accuracy: 0.9827 - val_loss: 1.2989 - val_categorical_accuracy: 0.7664\n",
      "Epoch 21/100\n",
      "152/152 [==============================] - 16s 105ms/step - loss: 0.1774 - categorical_accuracy: 0.9823 - val_loss: 1.3512 - val_categorical_accuracy: 0.7821\n",
      "Epoch 22/100\n",
      "152/152 [==============================] - 14s 93ms/step - loss: 0.1726 - categorical_accuracy: 0.9833 - val_loss: 1.8318 - val_categorical_accuracy: 0.7961\n",
      "Epoch 23/100\n",
      "152/152 [==============================] - 14s 89ms/step - loss: 0.2127 - categorical_accuracy: 0.9780 - val_loss: 1.2672 - val_categorical_accuracy: 0.7738\n",
      "Epoch 24/100\n",
      "152/152 [==============================] - 14s 95ms/step - loss: 0.1795 - categorical_accuracy: 0.9846 - val_loss: 1.4626 - val_categorical_accuracy: 0.7829\n",
      "Epoch 25/100\n",
      "152/152 [==============================] - 14s 92ms/step - loss: 0.1756 - categorical_accuracy: 0.9850 - val_loss: 1.7720 - val_categorical_accuracy: 0.7887\n",
      "Epoch 26/100\n",
      "152/152 [==============================] - 16s 103ms/step - loss: 0.2005 - categorical_accuracy: 0.9850 - val_loss: 1.1751 - val_categorical_accuracy: 0.7755\n",
      "Epoch 27/100\n",
      "152/152 [==============================] - 14s 94ms/step - loss: 0.1669 - categorical_accuracy: 0.9860 - val_loss: 1.5998 - val_categorical_accuracy: 0.7730\n",
      "Epoch 28/100\n",
      "152/152 [==============================] - 14s 91ms/step - loss: 0.1836 - categorical_accuracy: 0.9850 - val_loss: 1.4104 - val_categorical_accuracy: 0.8035\n",
      "Epoch 29/100\n",
      "152/152 [==============================] - 14s 93ms/step - loss: 0.1561 - categorical_accuracy: 0.9870 - val_loss: 1.5163 - val_categorical_accuracy: 0.7870\n",
      "Epoch 30/100\n",
      "152/152 [==============================] - 16s 104ms/step - loss: 0.1652 - categorical_accuracy: 0.9875 - val_loss: 1.2525 - val_categorical_accuracy: 0.7977\n",
      "Epoch 31/100\n",
      "152/152 [==============================] - 17s 114ms/step - loss: 0.1943 - categorical_accuracy: 0.9846 - val_loss: 1.8263 - val_categorical_accuracy: 0.7969\n",
      "Epoch 32/100\n",
      "152/152 [==============================] - 16s 103ms/step - loss: 0.1861 - categorical_accuracy: 0.9838 - val_loss: 0.9709 - val_categorical_accuracy: 0.7804\n",
      "Epoch 33/100\n",
      "152/152 [==============================] - 15s 101ms/step - loss: 0.1246 - categorical_accuracy: 0.9924 - val_loss: 1.1402 - val_categorical_accuracy: 0.8026\n",
      "Epoch 34/100\n",
      "152/152 [==============================] - 16s 104ms/step - loss: 0.1816 - categorical_accuracy: 0.9844 - val_loss: 1.9068 - val_categorical_accuracy: 0.7697\n",
      "Epoch 35/100\n",
      "152/152 [==============================] - 16s 104ms/step - loss: 0.1956 - categorical_accuracy: 0.9823 - val_loss: 1.0392 - val_categorical_accuracy: 0.7961\n",
      "Epoch 36/100\n",
      "152/152 [==============================] - 16s 107ms/step - loss: 0.1711 - categorical_accuracy: 0.9875 - val_loss: 1.3353 - val_categorical_accuracy: 0.7845\n",
      "Epoch 37/100\n",
      "152/152 [==============================] - 16s 104ms/step - loss: 0.1359 - categorical_accuracy: 0.9899 - val_loss: 1.1317 - val_categorical_accuracy: 0.7928\n",
      "Epoch 38/100\n",
      "152/152 [==============================] - 17s 109ms/step - loss: 0.1551 - categorical_accuracy: 0.9899 - val_loss: 1.4951 - val_categorical_accuracy: 0.7862\n",
      "Wall time: 9min 49s\n"
     ]
    }
   ],
   "source": [
    "%%time\n",
    "num_epochs = 100\n",
    "fit = model.fit(x_train, \n",
    "                y_train, \n",
    "                epochs=num_epochs, \n",
    "                validation_data=(x_val, y_val),\n",
    "#                 validation_split=0.2,       \n",
    "                callbacks = [early_stop]\n",
    ")"
   ]
  },
  {
   "cell_type": "code",
   "execution_count": 14,
   "metadata": {},
   "outputs": [
    {
     "data": {
      "image/png": "[encoded data removed]",
      "text/plain": [
       "<Figure size 432x288 with 1 Axes>"
      ]
     },
     "metadata": {
      "needs_background": "light"
     },
     "output_type": "display_data"
    }
   ],
   "source": [
    "plt.plot(fit.history['categorical_accuracy'], label='train')\n",
    "plt.plot(fit.history['val_categorical_accuracy'], label='test')\n",
    "plt.legend()\n",
    "plt.show()"
   ]
  },
  {
   "cell_type": "code",
   "execution_count": 15,
   "metadata": {},
   "outputs": [
    {
     "data": {
      "image/png": "[encoded data removed]",
      "text/plain": [
       "<Figure size 432x288 with 1 Axes>"
      ]
     },
     "metadata": {
      "needs_background": "light"
     },
     "output_type": "display_data"
    }
   ],
   "source": [
    "plt.plot(fit.history['loss'], label='train')\n",
    "plt.plot(fit.history['val_loss'], label='val')\n",
    "plt.legend()\n",
    "plt.show()"
   ]
  },
  {
   "cell_type": "code",
   "execution_count": 16,
   "metadata": {},
   "outputs": [
    {
     "name": "stdout",
     "output_type": "stream",
     "text": [
      "16/16 [==============================] - 3s 174ms/step - loss: 0.1161 - categorical_accuracy: 0.9949\n",
      "16/16 [==============================] - 2s 93ms/step - loss: 1.1402 - categorical_accuracy: 0.8026\n",
      "16/16 [==============================] - 2s 103ms/step - loss: 1.0827 - categorical_accuracy: 0.8013\n",
      "\n",
      "Train: 0.995, val: 0.803, test: 0.801,\n"
     ]
    }
   ],
   "source": [
    "train_loss, train_acc = model.evaluate(x_train, y_train, steps=16)\n",
    "val_loss, val_acc = model.evaluate(x_val, y_val, steps=16)\n",
    "test_loss, test_acc = model.evaluate(x_test, y_test, steps=16)\n",
    "\n",
    "print('\\nTrain: %.3f, val: %.3f, test: %.3f,' % (train_acc, val_acc, test_acc))"
   ]
  },
  {
   "cell_type": "markdown",
   "metadata": {},
   "source": [
    "# Save Model"
   ]
  },
  {
   "cell_type": "code",
   "execution_count": 17,
   "metadata": {},
   "outputs": [],
   "source": [
    "filename = 'lstm.h5'\n",
    "model.save(filename)"
   ]
  },
  {
   "cell_type": "code",
   "execution_count": null,
   "metadata": {},
   "outputs": [],
   "source": []
  }
 ],
 "metadata": {
  "colab": {
   "collapsed_sections": [],
   "name": "Lintang_Gilang_10Dec.ipynb",
   "provenance": []
  },
  "kernelspec": {
   "display_name": "Python 3 (ipykernel)",
   "language": "python",
   "name": "python3"
  },
  "language_info": {
   "codemirror_mode": {
    "name": "ipython",
    "version": 3
   },
   "file_extension": ".py",
   "mimetype": "text/x-python",
   "name": "python",
   "nbconvert_exporter": "python",
   "pygments_lexer": "ipython3",
   "version": "3.9.7"
  }
 },
 "nbformat": 4,
 "nbformat_minor": 1
}
