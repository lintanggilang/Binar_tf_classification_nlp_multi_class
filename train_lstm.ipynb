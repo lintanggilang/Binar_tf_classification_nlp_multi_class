{
 "cells": [
  {
   "cell_type": "code",
   "execution_count": 1,
   "metadata": {
    "colab": {
     "base_uri": "https://localhost:8080/",
     "height": 202
    },
    "id": "lNy522S0rRdH",
    "outputId": "2b317a21-2d55-49e5-eb54-1225919a0c32"
   },
   "outputs": [],
   "source": [
    "import pandas as pd\n",
    "\n",
    "import tensorflow as tf\n",
    "from tensorflow import keras\n",
    "\n",
    "from tensorflow.keras.preprocessing.sequence import pad_sequences\n",
    "from tensorflow.keras.preprocessing.text import Tokenizer\n",
    "from tensorflow.keras.callbacks import EarlyStopping\n",
    "from tensorflow.keras.regularizers import l1\n",
    "from tensorflow.keras.regularizers import l2\n",
    "from tensorflow.keras.regularizers import L1L2\n",
    "\n",
    "from sklearn.model_selection import train_test_split\n",
    "import matplotlib.pyplot as plt"
   ]
  },
  {
   "cell_type": "markdown",
   "metadata": {},
   "source": [
    "# Load Dataset"
   ]
  },
  {
   "cell_type": "code",
   "execution_count": 2,
   "metadata": {},
   "outputs": [
    {
     "data": {
      "text/html": [
       "<div>\n",
       "<style scoped>\n",
       "    .dataframe tbody tr th:only-of-type {\n",
       "        vertical-align: middle;\n",
       "    }\n",
       "\n",
       "    .dataframe tbody tr th {\n",
       "        vertical-align: top;\n",
       "    }\n",
       "\n",
       "    .dataframe thead th {\n",
       "        text-align: right;\n",
       "    }\n",
       "</style>\n",
       "<table border=\"1\" class=\"dataframe\">\n",
       "  <thead>\n",
       "    <tr style=\"text-align: right;\">\n",
       "      <th></th>\n",
       "      <th>content</th>\n",
       "      <th>label</th>\n",
       "    </tr>\n",
       "  </thead>\n",
       "  <tbody>\n",
       "    <tr>\n",
       "      <th>0</th>\n",
       "      <td>Unions representing workers at Turner   Newall...</td>\n",
       "      <td>Business</td>\n",
       "    </tr>\n",
       "    <tr>\n",
       "      <th>1</th>\n",
       "      <td>SPACE.com - TORONTO, Canada -- A second\\team o...</td>\n",
       "      <td>SciTech</td>\n",
       "    </tr>\n",
       "    <tr>\n",
       "      <th>2</th>\n",
       "      <td>AP - A company founded by a chemistry research...</td>\n",
       "      <td>SciTech</td>\n",
       "    </tr>\n",
       "    <tr>\n",
       "      <th>3</th>\n",
       "      <td>AP - It's barely dawn when Mike Fitzpatrick st...</td>\n",
       "      <td>SciTech</td>\n",
       "    </tr>\n",
       "    <tr>\n",
       "      <th>4</th>\n",
       "      <td>AP - Southern California's smog-fighting agenc...</td>\n",
       "      <td>SciTech</td>\n",
       "    </tr>\n",
       "  </tbody>\n",
       "</table>\n",
       "</div>"
      ],
      "text/plain": [
       "                                             content     label\n",
       "0  Unions representing workers at Turner   Newall...  Business\n",
       "1  SPACE.com - TORONTO, Canada -- A second\\team o...   SciTech\n",
       "2  AP - A company founded by a chemistry research...   SciTech\n",
       "3  AP - It's barely dawn when Mike Fitzpatrick st...   SciTech\n",
       "4  AP - Southern California's smog-fighting agenc...   SciTech"
      ]
     },
     "execution_count": 2,
     "metadata": {},
     "output_type": "execute_result"
    }
   ],
   "source": [
    "# dataset diambil dari https://github.com/robsalgado/personal_data_science_projects/tree/master/mulitclass_text_class\n",
    "df = pd.read_csv(\"df.csv\",dtype=object)\n",
    "df.head()"
   ]
  },
  {
   "cell_type": "markdown",
   "metadata": {},
   "source": [
    "# One Hot Endocder for label data"
   ]
  },
  {
   "cell_type": "code",
   "execution_count": 3,
   "metadata": {
    "colab": {
     "base_uri": "https://localhost:8080/",
     "height": 202
    },
    "id": "ZDw2PyrfsRhR",
    "outputId": "2f03fa4a-bf9f-42b1-c4f6-950966f83535"
   },
   "outputs": [
    {
     "data": {
      "text/html": [
       "<div>\n",
       "<style scoped>\n",
       "    .dataframe tbody tr th:only-of-type {\n",
       "        vertical-align: middle;\n",
       "    }\n",
       "\n",
       "    .dataframe tbody tr th {\n",
       "        vertical-align: top;\n",
       "    }\n",
       "\n",
       "    .dataframe thead th {\n",
       "        text-align: right;\n",
       "    }\n",
       "</style>\n",
       "<table border=\"1\" class=\"dataframe\">\n",
       "  <thead>\n",
       "    <tr style=\"text-align: right;\">\n",
       "      <th></th>\n",
       "      <th>content</th>\n",
       "      <th>Business</th>\n",
       "      <th>SciTech</th>\n",
       "      <th>Sports</th>\n",
       "      <th>World</th>\n",
       "    </tr>\n",
       "  </thead>\n",
       "  <tbody>\n",
       "    <tr>\n",
       "      <th>0</th>\n",
       "      <td>unions representing workers at turner   newall...</td>\n",
       "      <td>1</td>\n",
       "      <td>0</td>\n",
       "      <td>0</td>\n",
       "      <td>0</td>\n",
       "    </tr>\n",
       "    <tr>\n",
       "      <th>1</th>\n",
       "      <td>space.com - toronto, canada -- a second\\team o...</td>\n",
       "      <td>0</td>\n",
       "      <td>1</td>\n",
       "      <td>0</td>\n",
       "      <td>0</td>\n",
       "    </tr>\n",
       "    <tr>\n",
       "      <th>2</th>\n",
       "      <td>ap - a company founded by a chemistry research...</td>\n",
       "      <td>0</td>\n",
       "      <td>1</td>\n",
       "      <td>0</td>\n",
       "      <td>0</td>\n",
       "    </tr>\n",
       "    <tr>\n",
       "      <th>3</th>\n",
       "      <td>ap - it's barely dawn when mike fitzpatrick st...</td>\n",
       "      <td>0</td>\n",
       "      <td>1</td>\n",
       "      <td>0</td>\n",
       "      <td>0</td>\n",
       "    </tr>\n",
       "    <tr>\n",
       "      <th>4</th>\n",
       "      <td>ap - southern california's smog-fighting agenc...</td>\n",
       "      <td>0</td>\n",
       "      <td>1</td>\n",
       "      <td>0</td>\n",
       "      <td>0</td>\n",
       "    </tr>\n",
       "  </tbody>\n",
       "</table>\n",
       "</div>"
      ],
      "text/plain": [
       "                                             content  Business  SciTech  \\\n",
       "0  unions representing workers at turner   newall...         1        0   \n",
       "1  space.com - toronto, canada -- a second\\team o...         0        1   \n",
       "2  ap - a company founded by a chemistry research...         0        1   \n",
       "3  ap - it's barely dawn when mike fitzpatrick st...         0        1   \n",
       "4  ap - southern california's smog-fighting agenc...         0        1   \n",
       "\n",
       "   Sports  World  \n",
       "0       0      0  \n",
       "1       0      0  \n",
       "2       0      0  \n",
       "3       0      0  \n",
       "4       0      0  "
      ]
     },
     "execution_count": 3,
     "metadata": {},
     "output_type": "execute_result"
    }
   ],
   "source": [
    "category = pd.get_dummies(df.label)\n",
    "df_baru = pd.concat([df, category], axis=1)\n",
    "df_baru = df_baru.drop(columns='label')\n",
    "df_baru['content'] = df_baru['content'].str.lower()\n",
    "df_baru.head()"
   ]
  },
  {
   "cell_type": "markdown",
   "metadata": {},
   "source": [
    "# Split x y"
   ]
  },
  {
   "cell_type": "code",
   "execution_count": 4,
   "metadata": {},
   "outputs": [],
   "source": [
    "x = df_baru['content'].values\n",
    "y = df_baru[['Business', 'SciTech', 'Sports', 'World']].values"
   ]
  },
  {
   "cell_type": "markdown",
   "metadata": {
    "id": "hIPt2fB3zBSG"
   },
   "source": [
    "# Tokenizer"
   ]
  },
  {
   "cell_type": "code",
   "execution_count": 5,
   "metadata": {},
   "outputs": [],
   "source": [
    "tokenizer = Tokenizer(num_words=5000, oov_token='x')\n",
    "tokenizer.fit_on_texts(x)"
   ]
  },
  {
   "cell_type": "code",
   "execution_count": 6,
   "metadata": {},
   "outputs": [],
   "source": [
    "sekuens_x = tokenizer.texts_to_sequences(x)"
   ]
  },
  {
   "cell_type": "markdown",
   "metadata": {},
   "source": [
    "# Padding"
   ]
  },
  {
   "cell_type": "code",
   "execution_count": 7,
   "metadata": {},
   "outputs": [],
   "source": [
    "padded_x = pad_sequences(sekuens_x) "
   ]
  },
  {
   "cell_type": "markdown",
   "metadata": {},
   "source": [
    "# Split train test val"
   ]
  },
  {
   "cell_type": "code",
   "execution_count": 8,
   "metadata": {},
   "outputs": [],
   "source": [
    "x_train, x_test, y_train, y_test = train_test_split(padded_x, y, test_size=0.2, random_state = 4)\n",
    "\n",
    "x_train, x_val, y_train, y_val = train_test_split(x_train, y_train, test_size=0.2, random_state = 4)"
   ]
  },
  {
   "cell_type": "markdown",
   "metadata": {},
   "source": [
    "# Calls the function model to be used "
   ]
  },
  {
   "cell_type": "markdown",
   "metadata": {},
   "source": [
    "https://towardsdatascience.com/machine-learning-model-regularization-in-practice-an-example-with-keras-and-tensorflow-2-0-52a96746123e"
   ]
  },
  {
   "cell_type": "markdown",
   "metadata": {},
   "source": [
    "https://towardsdatascience.com/batch-normalization-in-practice-an-example-with-keras-and-tensorflow-2-0-b1ec28bde96f"
   ]
  },
  {
   "cell_type": "markdown",
   "metadata": {},
   "source": [
    "https://towardsdatascience.com/a-practical-introduction-to-early-stopping-in-machine-learning-550ac88bc8fd"
   ]
  },
  {
   "cell_type": "code",
   "execution_count": 9,
   "metadata": {},
   "outputs": [],
   "source": [
    "model = tf.keras.Sequential([\n",
    "    tf.keras.layers.Embedding(input_dim=5000, output_dim=128),\n",
    "    \n",
    "    tf.keras.layers.LSTM(128),\n",
    "        \n",
    "    tf.keras.layers.Dense(128, kernel_regularizer=L1L2(l1=0.01, l2=0.01), activation='relu'),\n",
    "    tf.keras.layers.Dropout(0.1),\n",
    "    tf.keras.layers.BatchNormalization(),\n",
    "    \n",
    "    tf.keras.layers.Dense(128, kernel_regularizer=L1L2(l1=0, l2=0.01), activation='relu'),\n",
    "    tf.keras.layers.Dropout(0.1),\n",
    "    tf.keras.layers.BatchNormalization(),\n",
    "    \n",
    "    tf.keras.layers.Dense(128, kernel_regularizer=L1L2(l1=0, l2=0.01), activation='relu'),\n",
    "    tf.keras.layers.Dropout(0.1),\n",
    "    tf.keras.layers.BatchNormalization(),\n",
    "    \n",
    "    tf.keras.layers.Dense(128, kernel_regularizer=L1L2(l1=0, l2=0.01), activation='relu'),\n",
    "    tf.keras.layers.Dropout(0.1),\n",
    "    tf.keras.layers.BatchNormalization(),\n",
    "    \n",
    "    tf.keras.layers.Dense(128, kernel_regularizer=L1L2(l1=0, l2=0.01), activation='relu'),\n",
    "    tf.keras.layers.Dropout(0.1),\n",
    "    tf.keras.layers.BatchNormalization(),    \n",
    "    \n",
    "    tf.keras.layers.Dense(4, activation='softmax')\n",
    "])"
   ]
  },
  {
   "cell_type": "markdown",
   "metadata": {},
   "source": [
    "# Call EarlyStopping"
   ]
  },
  {
   "cell_type": "code",
   "execution_count": 10,
   "metadata": {},
   "outputs": [],
   "source": [
    "early_stop = EarlyStopping(monitor='categorical_accuracy', patience=5, baseline = 0.8, restore_best_weights = True)"
   ]
  },
  {
   "cell_type": "code",
   "execution_count": 11,
   "metadata": {},
   "outputs": [],
   "source": [
    "# class MyThresholdCallback(tf.keras.callbacks.Callback):\n",
    "#     def __init__(self, threshold):\n",
    "#         super(MyThresholdCallback, self).__init__()\n",
    "#         self.threshold = threshold\n",
    "\n",
    "#     def on_epoch_end(self, epoch, logs=None): \n",
    "#         accuracy = logs[\"acc\"]\n",
    "#         if accuracy >= self.threshold:\n",
    "#             self.model.stop_training = True\n",
    "            \n",
    "            \n",
    "# early_stop = MyThresholdCallback(threshold=8.0)"
   ]
  },
  {
   "cell_type": "markdown",
   "metadata": {},
   "source": [
    "# Call optimizer for model"
   ]
  },
  {
   "cell_type": "code",
   "execution_count": 12,
   "metadata": {},
   "outputs": [],
   "source": [
    "model.compile(loss='categorical_crossentropy',\n",
    "              optimizer=keras.optimizers.Adam(),\n",
    "              metrics=['categorical_accuracy'])"
   ]
  },
  {
   "cell_type": "markdown",
   "metadata": {},
   "source": [
    "# Train the data"
   ]
  },
  {
   "cell_type": "code",
   "execution_count": 13,
   "metadata": {},
   "outputs": [
    {
     "name": "stdout",
     "output_type": "stream",
     "text": [
      "Epoch 1/100\n",
      "152/152 [==============================] - 17s 91ms/step - loss: 16.3261 - categorical_accuracy: 0.2876 - val_loss: 11.6949 - val_categorical_accuracy: 0.3734\n",
      "Epoch 2/100\n",
      "152/152 [==============================] - 15s 100ms/step - loss: 8.1800 - categorical_accuracy: 0.6151 - val_loss: 6.2150 - val_categorical_accuracy: 0.2689\n",
      "Epoch 3/100\n",
      "152/152 [==============================] - 16s 105ms/step - loss: 4.0816 - categorical_accuracy: 0.8160 - val_loss: 3.7479 - val_categorical_accuracy: 0.5724\n",
      "Epoch 4/100\n",
      "152/152 [==============================] - 16s 103ms/step - loss: 2.5318 - categorical_accuracy: 0.8727 - val_loss: 2.4325 - val_categorical_accuracy: 0.7352\n",
      "Epoch 5/100\n",
      "152/152 [==============================] - 13s 89ms/step - loss: 1.7528 - categorical_accuracy: 0.9077 - val_loss: 1.8164 - val_categorical_accuracy: 0.7903\n",
      "Epoch 6/100\n",
      "152/152 [==============================] - 13s 87ms/step - loss: 1.2028 - categorical_accuracy: 0.9350 - val_loss: 1.4781 - val_categorical_accuracy: 0.7788\n",
      "Epoch 7/100\n",
      "152/152 [==============================] - 14s 89ms/step - loss: 0.8468 - categorical_accuracy: 0.9457 - val_loss: 1.1819 - val_categorical_accuracy: 0.7829\n",
      "Epoch 8/100\n",
      "152/152 [==============================] - 15s 97ms/step - loss: 0.6145 - categorical_accuracy: 0.9581 - val_loss: 1.0550 - val_categorical_accuracy: 0.7887\n",
      "Epoch 9/100\n",
      "152/152 [==============================] - 14s 90ms/step - loss: 0.4915 - categorical_accuracy: 0.9570 - val_loss: 1.0603 - val_categorical_accuracy: 0.8010\n",
      "Epoch 10/100\n",
      "152/152 [==============================] - 14s 90ms/step - loss: 0.3945 - categorical_accuracy: 0.9529 - val_loss: 1.1713 - val_categorical_accuracy: 0.7689\n",
      "Epoch 11/100\n",
      "152/152 [==============================] - 13s 87ms/step - loss: 0.2988 - categorical_accuracy: 0.9692 - val_loss: 1.0852 - val_categorical_accuracy: 0.7714\n",
      "Epoch 12/100\n",
      "152/152 [==============================] - 14s 90ms/step - loss: 0.2610 - categorical_accuracy: 0.9704 - val_loss: 1.3056 - val_categorical_accuracy: 0.7771\n",
      "Epoch 13/100\n",
      "152/152 [==============================] - 14s 89ms/step - loss: 0.2465 - categorical_accuracy: 0.9702 - val_loss: 1.2463 - val_categorical_accuracy: 0.7706\n",
      "Epoch 14/100\n",
      "152/152 [==============================] - 13s 87ms/step - loss: 0.2425 - categorical_accuracy: 0.9706 - val_loss: 1.0102 - val_categorical_accuracy: 0.7969\n",
      "Epoch 15/100\n",
      "152/152 [==============================] - 13s 87ms/step - loss: 0.2067 - categorical_accuracy: 0.9768 - val_loss: 0.9068 - val_categorical_accuracy: 0.7977\n",
      "Epoch 16/100\n",
      "152/152 [==============================] - 14s 89ms/step - loss: 0.1644 - categorical_accuracy: 0.9825 - val_loss: 1.0940 - val_categorical_accuracy: 0.7870\n",
      "Epoch 17/100\n",
      "152/152 [==============================] - 15s 101ms/step - loss: 0.2037 - categorical_accuracy: 0.9766 - val_loss: 1.1964 - val_categorical_accuracy: 0.8026\n",
      "Epoch 18/100\n",
      "152/152 [==============================] - 17s 109ms/step - loss: 0.1765 - categorical_accuracy: 0.9836 - val_loss: 0.8740 - val_categorical_accuracy: 0.7895\n",
      "Epoch 19/100\n",
      "152/152 [==============================] - 15s 102ms/step - loss: 0.1980 - categorical_accuracy: 0.9778 - val_loss: 1.2412 - val_categorical_accuracy: 0.7911\n",
      "Epoch 20/100\n",
      "152/152 [==============================] - 14s 93ms/step - loss: 0.1864 - categorical_accuracy: 0.9817 - val_loss: 1.0759 - val_categorical_accuracy: 0.7804\n",
      "Epoch 21/100\n",
      "152/152 [==============================] - 14s 89ms/step - loss: 0.1985 - categorical_accuracy: 0.9755 - val_loss: 1.0009 - val_categorical_accuracy: 0.7993\n",
      "Epoch 22/100\n",
      "152/152 [==============================] - 15s 99ms/step - loss: 0.1956 - categorical_accuracy: 0.9799 - val_loss: 1.3029 - val_categorical_accuracy: 0.7812\n",
      "Epoch 23/100\n",
      "152/152 [==============================] - 16s 106ms/step - loss: 0.1944 - categorical_accuracy: 0.9809 - val_loss: 1.6693 - val_categorical_accuracy: 0.7492\n",
      "Wall time: 5min 32s\n"
     ]
    }
   ],
   "source": [
    "%%time\n",
    "num_epochs = 100\n",
    "fit = model.fit(x_train, \n",
    "                y_train, \n",
    "                epochs=num_epochs, \n",
    "                validation_data=(x_val, y_val),\n",
    "#                 validation_split=0.2,       \n",
    "                callbacks = [early_stop]\n",
    ")"
   ]
  },
  {
   "cell_type": "code",
   "execution_count": 14,
   "metadata": {},
   "outputs": [
    {
     "data": {
      "image/png": "[encoded data removed]",
      "text/plain": [
       "<Figure size 432x288 with 1 Axes>"
      ]
     },
     "metadata": {
      "needs_background": "light"
     },
     "output_type": "display_data"
    }
   ],
   "source": [
    "plt.plot(fit.history['categorical_accuracy'], label='train')\n",
    "plt.plot(fit.history['val_categorical_accuracy'], label='test')\n",
    "plt.legend()\n",
    "plt.show()"
   ]
  },
  {
   "cell_type": "code",
   "execution_count": 15,
   "metadata": {},
   "outputs": [
    {
     "data": {
      "image/png": "[encoded data removed]",
      "text/plain": [
       "<Figure size 432x288 with 1 Axes>"
      ]
     },
     "metadata": {
      "needs_background": "light"
     },
     "output_type": "display_data"
    }
   ],
   "source": [
    "plt.plot(fit.history['loss'], label='train')\n",
    "plt.plot(fit.history['val_loss'], label='val')\n",
    "plt.legend()\n",
    "plt.show()"
   ]
  },
  {
   "cell_type": "code",
   "execution_count": 16,
   "metadata": {},
   "outputs": [
    {
     "name": "stdout",
     "output_type": "stream",
     "text": [
      "16/16 [==============================] - 3s 131ms/step - loss: 0.1397 - categorical_accuracy: 0.9891\n",
      "16/16 [==============================] - 2s 60ms/step - loss: 0.8740 - categorical_accuracy: 0.7895\n",
      "16/16 [==============================] - 1s 68ms/step - loss: 0.8587 - categorical_accuracy: 0.7987\n",
      "\n",
      "Train: 0.989, val: 0.789, test: 0.799,\n"
     ]
    }
   ],
   "source": [
    "train_loss, train_acc = model.evaluate(x_train, y_train, steps=16)\n",
    "val_loss, val_acc = model.evaluate(x_val, y_val, steps=16)\n",
    "test_loss, test_acc = model.evaluate(x_test, y_test, steps=16)\n",
    "\n",
    "print('\\nTrain: %.3f, val: %.3f, test: %.3f,' % (train_acc, val_acc, test_acc))"
   ]
  },
  {
   "cell_type": "markdown",
   "metadata": {},
   "source": [
    "# Save Model"
   ]
  },
  {
   "cell_type": "code",
   "execution_count": 17,
   "metadata": {},
   "outputs": [],
   "source": [
    "filename = 'lstm.h5'\n",
    "model.save(filename)"
   ]
  },
  {
   "cell_type": "code",
   "execution_count": null,
   "metadata": {},
   "outputs": [],
   "source": []
  }
 ],
 "metadata": {
  "colab": {
   "collapsed_sections": [],
   "name": "Lintang_Gilang_10Dec.ipynb",
   "provenance": []
  },
  "kernelspec": {
   "display_name": "Python 3 (ipykernel)",
   "language": "python",
   "name": "python3"
  },
  "language_info": {
   "codemirror_mode": {
    "name": "ipython",
    "version": 3
   },
   "file_extension": ".py",
   "mimetype": "text/x-python",
   "name": "python",
   "nbconvert_exporter": "python",
   "pygments_lexer": "ipython3",
   "version": "3.9.7"
  }
 },
 "nbformat": 4,
 "nbformat_minor": 1
}
