{
 "cells": [
  {
   "cell_type": "code",
   "execution_count": 1,
   "id": "226bffbf",
   "metadata": {},
   "outputs": [],
   "source": [
    "from tensorflow.keras.models import load_model\n",
    "from tensorflow.keras.preprocessing.text import Tokenizer\n",
    "from tensorflow.keras.preprocessing.sequence import pad_sequences\n",
    "import json"
   ]
  },
  {
   "cell_type": "code",
   "execution_count": 2,
   "id": "a8e84493",
   "metadata": {},
   "outputs": [],
   "source": [
    "from tensorflow.keras.preprocessing.text import tokenizer_from_json\n",
    "\n",
    "with open('tokenizer.json') as f:\n",
    "    data = json.load(f)\n",
    "    tokenizer = tokenizer_from_json(data)"
   ]
  },
  {
   "cell_type": "code",
   "execution_count": 3,
   "id": "cd92edd0",
   "metadata": {},
   "outputs": [],
   "source": [
    "loaded_model = load_model(r'lstm.h5')"
   ]
  },
  {
   "cell_type": "code",
   "execution_count": 4,
   "id": "3b90337b",
   "metadata": {},
   "outputs": [],
   "source": [
    "def pred_sentiment(string):\n",
    "    text = [string]\n",
    "\n",
    "    sekuens_x = tokenizer.texts_to_sequences(text)\n",
    "    padded_x = pad_sequences(sekuens_x)\n",
    "\n",
    "    classes = loaded_model.predict(padded_x, batch_size=10)\n",
    "\n",
    "    return classes[0]"
   ]
  },
  {
   "cell_type": "code",
   "execution_count": 5,
   "id": "361dc3b4",
   "metadata": {},
   "outputs": [],
   "source": [
    "def pred(classes):\n",
    "    if classes[0] == classes.max():\n",
    "        print('Business')\n",
    "    if classes[1] == classes.max():\n",
    "        print('SciTech')\n",
    "    if classes[2] == classes.max():\n",
    "        print('Sports')\n",
    "    if classes[3] == classes.max():\n",
    "        print('World')"
   ]
  },
  {
   "cell_type": "code",
   "execution_count": 6,
   "id": "eeeee716",
   "metadata": {},
   "outputs": [],
   "source": [
    "string = \"Unions representing workers at Turner   Newall say they are 'disappointed' after talks with stricken parent firm Federal Mogul.\""
   ]
  },
  {
   "cell_type": "code",
   "execution_count": 7,
   "id": "cf0f55db",
   "metadata": {},
   "outputs": [
    {
     "name": "stdout",
     "output_type": "stream",
     "text": [
      "Business\n"
     ]
    }
   ],
   "source": [
    "classes = pred_sentiment(string)\n",
    "pred(classes)"
   ]
  },
  {
   "cell_type": "code",
   "execution_count": 8,
   "id": "5edc19da",
   "metadata": {},
   "outputs": [],
   "source": [
    "string = \"SPACE.com - TORONTO, Canada -- A second\\team of rocketeers competing for the  #36;10 million Ansari X Prize, a contest for\\privately funded suborbital space flight, has officially announced the first\\launch date for its manned rocket.\""
   ]
  },
  {
   "cell_type": "code",
   "execution_count": 9,
   "id": "39493e9e",
   "metadata": {},
   "outputs": [
    {
     "name": "stdout",
     "output_type": "stream",
     "text": [
      "SciTech\n"
     ]
    }
   ],
   "source": [
    "classes = pred_sentiment(string)\n",
    "pred(classes)"
   ]
  },
  {
   "cell_type": "code",
   "execution_count": null,
   "id": "7a8deec3",
   "metadata": {},
   "outputs": [],
   "source": []
  },
  {
   "cell_type": "code",
   "execution_count": null,
   "id": "b7a21718",
   "metadata": {},
   "outputs": [],
   "source": []
  },
  {
   "cell_type": "code",
   "execution_count": null,
   "id": "65ff5479",
   "metadata": {},
   "outputs": [],
   "source": []
  }
 ],
 "metadata": {
  "kernelspec": {
   "display_name": "Python 3 (ipykernel)",
   "language": "python",
   "name": "python3"
  },
  "language_info": {
   "codemirror_mode": {
    "name": "ipython",
    "version": 3
   },
   "file_extension": ".py",
   "mimetype": "text/x-python",
   "name": "python",
   "nbconvert_exporter": "python",
   "pygments_lexer": "ipython3",
   "version": "3.9.7"
  }
 },
 "nbformat": 4,
 "nbformat_minor": 5
}
